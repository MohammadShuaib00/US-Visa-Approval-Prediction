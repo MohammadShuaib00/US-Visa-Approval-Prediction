{
 "cells": [
  {
   "cell_type": "code",
   "execution_count": null,
   "metadata": {},
   "outputs": [
    {
     "name": "stdout",
     "output_type": "stream",
     "text": [
      "Data uploaded successfully.\n"
     ]
    }
   ],
   "source": [
    "from pymongo.mongo_client import MongoClient\n",
    "from pymongo.server_api import ServerApi\n",
    "import pandas as pd\n",
    "\n",
    "# Enter the mongdb url api \n",
    "uri = \"//////////////////////////////127.0.0.1////////\"\n",
    "\n",
    "df = pd.read_csv(\"../data/usvisa.csv\")\n",
    "# Create a new client and connect to the server\n",
    "client = MongoClient(uri, server_api=ServerApi('1'))\n",
    "db = client['usvisadatabase']\n",
    "collections = db['usvisadata']\n",
    "\n",
    "def upload_data(data:pd.DataFrame):\n",
    "    try:\n",
    "        data = data.to_dict(orient=\"records\")\n",
    "        collections.insert_many(data)\n",
    "        print(\"Data uploaded successfully.\")\n",
    "    except Exception as e:\n",
    "        raise print(e)\n",
    "    \n",
    "upload_data(df)\n"
   ]
  }
 ],
 "metadata": {
  "kernelspec": {
   "display_name": "venv",
   "language": "python",
   "name": "python3"
  },
  "language_info": {
   "codemirror_mode": {
    "name": "ipython",
    "version": 3
   },
   "file_extension": ".py",
   "mimetype": "text/x-python",
   "name": "python",
   "nbconvert_exporter": "python",
   "pygments_lexer": "ipython3",
   "version": "3.12.8"
  }
 },
 "nbformat": 4,
 "nbformat_minor": 2
}
